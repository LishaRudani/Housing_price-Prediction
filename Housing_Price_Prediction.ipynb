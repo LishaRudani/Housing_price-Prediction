{
  "nbformat": 4,
  "nbformat_minor": 0,
  "metadata": {
    "colab": {
      "provenance": [],
      "authorship_tag": "ABX9TyOtHVbUDC9cPtDATfeQHQAL",
      "include_colab_link": true
    },
    "kernelspec": {
      "name": "python3",
      "display_name": "Python 3"
    },
    "language_info": {
      "name": "python"
    }
  },
  "cells": [
    {
      "cell_type": "markdown",
      "metadata": {
        "id": "view-in-github",
        "colab_type": "text"
      },
      "source": [
        "<a href=\"https://colab.research.google.com/github/LishaRudani/Housing_price-Prediction/blob/main/Housing_Price_Prediction.ipynb\" target=\"_parent\"><img src=\"https://colab.research.google.com/assets/colab-badge.svg\" alt=\"Open In Colab\"/></a>"
      ]
    },
    {
      "cell_type": "code",
      "execution_count": null,
      "metadata": {
        "id": "rwojuMWA_sHE"
      },
      "outputs": [],
      "source": [
        "import numpy as np\n",
        "import pandas as pd\n",
        "import matplotlib.pyplot as plt\n",
        "import seaborn as sns\n",
        "import sklearn.datasets\n",
        "from sklearn.model_selection import train_test_split\n",
        "from xgboost import XGBRegressor\n",
        "from sklearn import metrics"
      ]
    },
    {
      "cell_type": "code",
      "source": [
        "from google.colab import drive\n",
        "drive.mount('/content/drive')"
      ],
      "metadata": {
        "colab": {
          "base_uri": "https://localhost:8080/"
        },
        "id": "r-1hccPv_zSt",
        "outputId": "1ff031ef-771b-4002-e450-8945935cb10c"
      },
      "execution_count": null,
      "outputs": [
        {
          "output_type": "stream",
          "name": "stdout",
          "text": [
            "Mounted at /content/drive\n"
          ]
        }
      ]
    },
    {
      "cell_type": "code",
      "source": [
        "!unzip /content/drive/MyDrive/Teach_Foundation_of_ML/project/Regression/archive.zip"
      ],
      "metadata": {
        "colab": {
          "base_uri": "https://localhost:8080/"
        },
        "id": "HZP6-dru_zVn",
        "outputId": "819969ee-6737-4122-87c5-9abc6971b0bd"
      },
      "execution_count": null,
      "outputs": [
        {
          "output_type": "stream",
          "name": "stdout",
          "text": [
            "unzip:  cannot find or open /content/drive/MyDrive/Teach_Foundation_of_ML/project/Regression/archive.zip, /content/drive/MyDrive/Teach_Foundation_of_ML/project/Regression/archive.zip.zip or /content/drive/MyDrive/Teach_Foundation_of_ML/project/Regression/archive.zip.ZIP.\n"
          ]
        }
      ]
    },
    {
      "cell_type": "code",
      "source": [
        "df = pd.read_excel(r'/content/drive/MyDrive/Housing_dataset/DS_ Assignment_Part_1_dataset.xlsx')"
      ],
      "metadata": {
        "id": "nUgXZMxw_zYj"
      },
      "execution_count": null,
      "outputs": []
    },
    {
      "cell_type": "code",
      "source": [
        "df.head()"
      ],
      "metadata": {
        "colab": {
          "base_uri": "https://localhost:8080/",
          "height": 267
        },
        "id": "wm2udC0o_zcH",
        "outputId": "410dab9d-707f-48b5-ead0-a12f2426f13d"
      },
      "execution_count": null,
      "outputs": [
        {
          "output_type": "execute_result",
          "data": {
            "text/plain": [
              "   Transaction date  House Age  Distance from nearest Metro station (km)  \\\n",
              "0       2012.916667       32.0                                  84.87882   \n",
              "1       2012.916667       19.5                                 306.59470   \n",
              "2       2013.583333       13.3                                 561.98450   \n",
              "3       2013.500000       13.3                                 561.98450   \n",
              "4       2012.833333        5.0                                 390.56840   \n",
              "\n",
              "   Number of convenience stores  latitude  longitude  Number of bedrooms  \\\n",
              "0                            10  24.98298  121.54024                   1   \n",
              "1                             9  24.98034  121.53951                   2   \n",
              "2                             5  24.98746  121.54391                   3   \n",
              "3                             5  24.98746  121.54391                   2   \n",
              "4                             5  24.97937  121.54245                   1   \n",
              "\n",
              "   House size (sqft)  House price of unit area  \n",
              "0                575                      37.9  \n",
              "1               1240                      42.2  \n",
              "2               1060                      47.3  \n",
              "3                875                      54.8  \n",
              "4                491                      43.1  "
            ],
            "text/html": [
              "\n",
              "  <div id=\"df-2ca7a33c-eb60-4e47-b255-4665faa9a095\">\n",
              "    <div class=\"colab-df-container\">\n",
              "      <div>\n",
              "<style scoped>\n",
              "    .dataframe tbody tr th:only-of-type {\n",
              "        vertical-align: middle;\n",
              "    }\n",
              "\n",
              "    .dataframe tbody tr th {\n",
              "        vertical-align: top;\n",
              "    }\n",
              "\n",
              "    .dataframe thead th {\n",
              "        text-align: right;\n",
              "    }\n",
              "</style>\n",
              "<table border=\"1\" class=\"dataframe\">\n",
              "  <thead>\n",
              "    <tr style=\"text-align: right;\">\n",
              "      <th></th>\n",
              "      <th>Transaction date</th>\n",
              "      <th>House Age</th>\n",
              "      <th>Distance from nearest Metro station (km)</th>\n",
              "      <th>Number of convenience stores</th>\n",
              "      <th>latitude</th>\n",
              "      <th>longitude</th>\n",
              "      <th>Number of bedrooms</th>\n",
              "      <th>House size (sqft)</th>\n",
              "      <th>House price of unit area</th>\n",
              "    </tr>\n",
              "  </thead>\n",
              "  <tbody>\n",
              "    <tr>\n",
              "      <th>0</th>\n",
              "      <td>2012.916667</td>\n",
              "      <td>32.0</td>\n",
              "      <td>84.87882</td>\n",
              "      <td>10</td>\n",
              "      <td>24.98298</td>\n",
              "      <td>121.54024</td>\n",
              "      <td>1</td>\n",
              "      <td>575</td>\n",
              "      <td>37.9</td>\n",
              "    </tr>\n",
              "    <tr>\n",
              "      <th>1</th>\n",
              "      <td>2012.916667</td>\n",
              "      <td>19.5</td>\n",
              "      <td>306.59470</td>\n",
              "      <td>9</td>\n",
              "      <td>24.98034</td>\n",
              "      <td>121.53951</td>\n",
              "      <td>2</td>\n",
              "      <td>1240</td>\n",
              "      <td>42.2</td>\n",
              "    </tr>\n",
              "    <tr>\n",
              "      <th>2</th>\n",
              "      <td>2013.583333</td>\n",
              "      <td>13.3</td>\n",
              "      <td>561.98450</td>\n",
              "      <td>5</td>\n",
              "      <td>24.98746</td>\n",
              "      <td>121.54391</td>\n",
              "      <td>3</td>\n",
              "      <td>1060</td>\n",
              "      <td>47.3</td>\n",
              "    </tr>\n",
              "    <tr>\n",
              "      <th>3</th>\n",
              "      <td>2013.500000</td>\n",
              "      <td>13.3</td>\n",
              "      <td>561.98450</td>\n",
              "      <td>5</td>\n",
              "      <td>24.98746</td>\n",
              "      <td>121.54391</td>\n",
              "      <td>2</td>\n",
              "      <td>875</td>\n",
              "      <td>54.8</td>\n",
              "    </tr>\n",
              "    <tr>\n",
              "      <th>4</th>\n",
              "      <td>2012.833333</td>\n",
              "      <td>5.0</td>\n",
              "      <td>390.56840</td>\n",
              "      <td>5</td>\n",
              "      <td>24.97937</td>\n",
              "      <td>121.54245</td>\n",
              "      <td>1</td>\n",
              "      <td>491</td>\n",
              "      <td>43.1</td>\n",
              "    </tr>\n",
              "  </tbody>\n",
              "</table>\n",
              "</div>\n",
              "      <button class=\"colab-df-convert\" onclick=\"convertToInteractive('df-2ca7a33c-eb60-4e47-b255-4665faa9a095')\"\n",
              "              title=\"Convert this dataframe to an interactive table.\"\n",
              "              style=\"display:none;\">\n",
              "        \n",
              "  <svg xmlns=\"http://www.w3.org/2000/svg\" height=\"24px\"viewBox=\"0 0 24 24\"\n",
              "       width=\"24px\">\n",
              "    <path d=\"M0 0h24v24H0V0z\" fill=\"none\"/>\n",
              "    <path d=\"M18.56 5.44l.94 2.06.94-2.06 2.06-.94-2.06-.94-.94-2.06-.94 2.06-2.06.94zm-11 1L8.5 8.5l.94-2.06 2.06-.94-2.06-.94L8.5 2.5l-.94 2.06-2.06.94zm10 10l.94 2.06.94-2.06 2.06-.94-2.06-.94-.94-2.06-.94 2.06-2.06.94z\"/><path d=\"M17.41 7.96l-1.37-1.37c-.4-.4-.92-.59-1.43-.59-.52 0-1.04.2-1.43.59L10.3 9.45l-7.72 7.72c-.78.78-.78 2.05 0 2.83L4 21.41c.39.39.9.59 1.41.59.51 0 1.02-.2 1.41-.59l7.78-7.78 2.81-2.81c.8-.78.8-2.07 0-2.86zM5.41 20L4 18.59l7.72-7.72 1.47 1.35L5.41 20z\"/>\n",
              "  </svg>\n",
              "      </button>\n",
              "      \n",
              "  <style>\n",
              "    .colab-df-container {\n",
              "      display:flex;\n",
              "      flex-wrap:wrap;\n",
              "      gap: 12px;\n",
              "    }\n",
              "\n",
              "    .colab-df-convert {\n",
              "      background-color: #E8F0FE;\n",
              "      border: none;\n",
              "      border-radius: 50%;\n",
              "      cursor: pointer;\n",
              "      display: none;\n",
              "      fill: #1967D2;\n",
              "      height: 32px;\n",
              "      padding: 0 0 0 0;\n",
              "      width: 32px;\n",
              "    }\n",
              "\n",
              "    .colab-df-convert:hover {\n",
              "      background-color: #E2EBFA;\n",
              "      box-shadow: 0px 1px 2px rgba(60, 64, 67, 0.3), 0px 1px 3px 1px rgba(60, 64, 67, 0.15);\n",
              "      fill: #174EA6;\n",
              "    }\n",
              "\n",
              "    [theme=dark] .colab-df-convert {\n",
              "      background-color: #3B4455;\n",
              "      fill: #D2E3FC;\n",
              "    }\n",
              "\n",
              "    [theme=dark] .colab-df-convert:hover {\n",
              "      background-color: #434B5C;\n",
              "      box-shadow: 0px 1px 3px 1px rgba(0, 0, 0, 0.15);\n",
              "      filter: drop-shadow(0px 1px 2px rgba(0, 0, 0, 0.3));\n",
              "      fill: #FFFFFF;\n",
              "    }\n",
              "  </style>\n",
              "\n",
              "      <script>\n",
              "        const buttonEl =\n",
              "          document.querySelector('#df-2ca7a33c-eb60-4e47-b255-4665faa9a095 button.colab-df-convert');\n",
              "        buttonEl.style.display =\n",
              "          google.colab.kernel.accessAllowed ? 'block' : 'none';\n",
              "\n",
              "        async function convertToInteractive(key) {\n",
              "          const element = document.querySelector('#df-2ca7a33c-eb60-4e47-b255-4665faa9a095');\n",
              "          const dataTable =\n",
              "            await google.colab.kernel.invokeFunction('convertToInteractive',\n",
              "                                                     [key], {});\n",
              "          if (!dataTable) return;\n",
              "\n",
              "          const docLinkHtml = 'Like what you see? Visit the ' +\n",
              "            '<a target=\"_blank\" href=https://colab.research.google.com/notebooks/data_table.ipynb>data table notebook</a>'\n",
              "            + ' to learn more about interactive tables.';\n",
              "          element.innerHTML = '';\n",
              "          dataTable['output_type'] = 'display_data';\n",
              "          await google.colab.output.renderOutput(dataTable, element);\n",
              "          const docLink = document.createElement('div');\n",
              "          docLink.innerHTML = docLinkHtml;\n",
              "          element.appendChild(docLink);\n",
              "        }\n",
              "      </script>\n",
              "    </div>\n",
              "  </div>\n",
              "  "
            ]
          },
          "metadata": {},
          "execution_count": 14
        }
      ]
    },
    {
      "cell_type": "code",
      "source": [
        "# checking the number of rows and Columns in the data frame\n",
        "df.shape"
      ],
      "metadata": {
        "colab": {
          "base_uri": "https://localhost:8080/"
        },
        "id": "otEjrsck_zeX",
        "outputId": "ee428163-f433-4315-f702-6a0c885bddce"
      },
      "execution_count": null,
      "outputs": [
        {
          "output_type": "execute_result",
          "data": {
            "text/plain": [
              "(414, 9)"
            ]
          },
          "metadata": {},
          "execution_count": 15
        }
      ]
    },
    {
      "cell_type": "code",
      "source": [
        "# check for missing values\n",
        "df.isnull().sum()"
      ],
      "metadata": {
        "colab": {
          "base_uri": "https://localhost:8080/"
        },
        "id": "8J4fWGTm_zh3",
        "outputId": "2f84a3dc-de30-4023-8561-9684357fe4ac"
      },
      "execution_count": null,
      "outputs": [
        {
          "output_type": "execute_result",
          "data": {
            "text/plain": [
              "Transaction date                            0\n",
              "House Age                                   0\n",
              "Distance from nearest Metro station (km)    0\n",
              "Number of convenience stores                0\n",
              "latitude                                    0\n",
              "longitude                                   0\n",
              "Number of bedrooms                          0\n",
              "House size (sqft)                           0\n",
              "House price of unit area                    0\n",
              "dtype: int64"
            ]
          },
          "metadata": {},
          "execution_count": 16
        }
      ]
    },
    {
      "cell_type": "code",
      "source": [
        "# statistical measures of the dataset\n",
        "df.describe()"
      ],
      "metadata": {
        "colab": {
          "base_uri": "https://localhost:8080/",
          "height": 362
        },
        "id": "UANHkZhr_zk7",
        "outputId": "bc57cc85-37a3-4c7f-b2a5-4a2dae648183"
      },
      "execution_count": null,
      "outputs": [
        {
          "output_type": "execute_result",
          "data": {
            "text/plain": [
              "       Transaction date   House Age  Distance from nearest Metro station (km)  \\\n",
              "count        414.000000  414.000000                                414.000000   \n",
              "mean        2013.148953   17.712560                               1083.885689   \n",
              "std            0.281995   11.392485                               1262.109595   \n",
              "min         2012.666667    0.000000                                 23.382840   \n",
              "25%         2012.916667    9.025000                                289.324800   \n",
              "50%         2013.166667   16.100000                                492.231300   \n",
              "75%         2013.416667   28.150000                               1454.279000   \n",
              "max         2013.583333   43.800000                               6488.021000   \n",
              "\n",
              "       Number of convenience stores    latitude   longitude  \\\n",
              "count                    414.000000  414.000000  414.000000   \n",
              "mean                       4.094203   24.969030  121.533361   \n",
              "std                        2.945562    0.012410    0.015347   \n",
              "min                        0.000000   24.932070  121.473530   \n",
              "25%                        1.000000   24.963000  121.528085   \n",
              "50%                        4.000000   24.971100  121.538630   \n",
              "75%                        6.000000   24.977455  121.543305   \n",
              "max                       10.000000   25.014590  121.566270   \n",
              "\n",
              "       Number of bedrooms  House size (sqft)  House price of unit area  \n",
              "count          414.000000         414.000000                414.000000  \n",
              "mean             1.987923         931.475845                 37.980193  \n",
              "std              0.818875         348.910269                 13.606488  \n",
              "min              1.000000         402.000000                  7.600000  \n",
              "25%              1.000000         548.000000                 27.700000  \n",
              "50%              2.000000         975.000000                 38.450000  \n",
              "75%              3.000000        1234.750000                 46.600000  \n",
              "max              3.000000        1500.000000                117.500000  "
            ],
            "text/html": [
              "\n",
              "  <div id=\"df-2fe5c781-aeb8-43a8-8382-90d2c87a6c86\">\n",
              "    <div class=\"colab-df-container\">\n",
              "      <div>\n",
              "<style scoped>\n",
              "    .dataframe tbody tr th:only-of-type {\n",
              "        vertical-align: middle;\n",
              "    }\n",
              "\n",
              "    .dataframe tbody tr th {\n",
              "        vertical-align: top;\n",
              "    }\n",
              "\n",
              "    .dataframe thead th {\n",
              "        text-align: right;\n",
              "    }\n",
              "</style>\n",
              "<table border=\"1\" class=\"dataframe\">\n",
              "  <thead>\n",
              "    <tr style=\"text-align: right;\">\n",
              "      <th></th>\n",
              "      <th>Transaction date</th>\n",
              "      <th>House Age</th>\n",
              "      <th>Distance from nearest Metro station (km)</th>\n",
              "      <th>Number of convenience stores</th>\n",
              "      <th>latitude</th>\n",
              "      <th>longitude</th>\n",
              "      <th>Number of bedrooms</th>\n",
              "      <th>House size (sqft)</th>\n",
              "      <th>House price of unit area</th>\n",
              "    </tr>\n",
              "  </thead>\n",
              "  <tbody>\n",
              "    <tr>\n",
              "      <th>count</th>\n",
              "      <td>414.000000</td>\n",
              "      <td>414.000000</td>\n",
              "      <td>414.000000</td>\n",
              "      <td>414.000000</td>\n",
              "      <td>414.000000</td>\n",
              "      <td>414.000000</td>\n",
              "      <td>414.000000</td>\n",
              "      <td>414.000000</td>\n",
              "      <td>414.000000</td>\n",
              "    </tr>\n",
              "    <tr>\n",
              "      <th>mean</th>\n",
              "      <td>2013.148953</td>\n",
              "      <td>17.712560</td>\n",
              "      <td>1083.885689</td>\n",
              "      <td>4.094203</td>\n",
              "      <td>24.969030</td>\n",
              "      <td>121.533361</td>\n",
              "      <td>1.987923</td>\n",
              "      <td>931.475845</td>\n",
              "      <td>37.980193</td>\n",
              "    </tr>\n",
              "    <tr>\n",
              "      <th>std</th>\n",
              "      <td>0.281995</td>\n",
              "      <td>11.392485</td>\n",
              "      <td>1262.109595</td>\n",
              "      <td>2.945562</td>\n",
              "      <td>0.012410</td>\n",
              "      <td>0.015347</td>\n",
              "      <td>0.818875</td>\n",
              "      <td>348.910269</td>\n",
              "      <td>13.606488</td>\n",
              "    </tr>\n",
              "    <tr>\n",
              "      <th>min</th>\n",
              "      <td>2012.666667</td>\n",
              "      <td>0.000000</td>\n",
              "      <td>23.382840</td>\n",
              "      <td>0.000000</td>\n",
              "      <td>24.932070</td>\n",
              "      <td>121.473530</td>\n",
              "      <td>1.000000</td>\n",
              "      <td>402.000000</td>\n",
              "      <td>7.600000</td>\n",
              "    </tr>\n",
              "    <tr>\n",
              "      <th>25%</th>\n",
              "      <td>2012.916667</td>\n",
              "      <td>9.025000</td>\n",
              "      <td>289.324800</td>\n",
              "      <td>1.000000</td>\n",
              "      <td>24.963000</td>\n",
              "      <td>121.528085</td>\n",
              "      <td>1.000000</td>\n",
              "      <td>548.000000</td>\n",
              "      <td>27.700000</td>\n",
              "    </tr>\n",
              "    <tr>\n",
              "      <th>50%</th>\n",
              "      <td>2013.166667</td>\n",
              "      <td>16.100000</td>\n",
              "      <td>492.231300</td>\n",
              "      <td>4.000000</td>\n",
              "      <td>24.971100</td>\n",
              "      <td>121.538630</td>\n",
              "      <td>2.000000</td>\n",
              "      <td>975.000000</td>\n",
              "      <td>38.450000</td>\n",
              "    </tr>\n",
              "    <tr>\n",
              "      <th>75%</th>\n",
              "      <td>2013.416667</td>\n",
              "      <td>28.150000</td>\n",
              "      <td>1454.279000</td>\n",
              "      <td>6.000000</td>\n",
              "      <td>24.977455</td>\n",
              "      <td>121.543305</td>\n",
              "      <td>3.000000</td>\n",
              "      <td>1234.750000</td>\n",
              "      <td>46.600000</td>\n",
              "    </tr>\n",
              "    <tr>\n",
              "      <th>max</th>\n",
              "      <td>2013.583333</td>\n",
              "      <td>43.800000</td>\n",
              "      <td>6488.021000</td>\n",
              "      <td>10.000000</td>\n",
              "      <td>25.014590</td>\n",
              "      <td>121.566270</td>\n",
              "      <td>3.000000</td>\n",
              "      <td>1500.000000</td>\n",
              "      <td>117.500000</td>\n",
              "    </tr>\n",
              "  </tbody>\n",
              "</table>\n",
              "</div>\n",
              "      <button class=\"colab-df-convert\" onclick=\"convertToInteractive('df-2fe5c781-aeb8-43a8-8382-90d2c87a6c86')\"\n",
              "              title=\"Convert this dataframe to an interactive table.\"\n",
              "              style=\"display:none;\">\n",
              "        \n",
              "  <svg xmlns=\"http://www.w3.org/2000/svg\" height=\"24px\"viewBox=\"0 0 24 24\"\n",
              "       width=\"24px\">\n",
              "    <path d=\"M0 0h24v24H0V0z\" fill=\"none\"/>\n",
              "    <path d=\"M18.56 5.44l.94 2.06.94-2.06 2.06-.94-2.06-.94-.94-2.06-.94 2.06-2.06.94zm-11 1L8.5 8.5l.94-2.06 2.06-.94-2.06-.94L8.5 2.5l-.94 2.06-2.06.94zm10 10l.94 2.06.94-2.06 2.06-.94-2.06-.94-.94-2.06-.94 2.06-2.06.94z\"/><path d=\"M17.41 7.96l-1.37-1.37c-.4-.4-.92-.59-1.43-.59-.52 0-1.04.2-1.43.59L10.3 9.45l-7.72 7.72c-.78.78-.78 2.05 0 2.83L4 21.41c.39.39.9.59 1.41.59.51 0 1.02-.2 1.41-.59l7.78-7.78 2.81-2.81c.8-.78.8-2.07 0-2.86zM5.41 20L4 18.59l7.72-7.72 1.47 1.35L5.41 20z\"/>\n",
              "  </svg>\n",
              "      </button>\n",
              "      \n",
              "  <style>\n",
              "    .colab-df-container {\n",
              "      display:flex;\n",
              "      flex-wrap:wrap;\n",
              "      gap: 12px;\n",
              "    }\n",
              "\n",
              "    .colab-df-convert {\n",
              "      background-color: #E8F0FE;\n",
              "      border: none;\n",
              "      border-radius: 50%;\n",
              "      cursor: pointer;\n",
              "      display: none;\n",
              "      fill: #1967D2;\n",
              "      height: 32px;\n",
              "      padding: 0 0 0 0;\n",
              "      width: 32px;\n",
              "    }\n",
              "\n",
              "    .colab-df-convert:hover {\n",
              "      background-color: #E2EBFA;\n",
              "      box-shadow: 0px 1px 2px rgba(60, 64, 67, 0.3), 0px 1px 3px 1px rgba(60, 64, 67, 0.15);\n",
              "      fill: #174EA6;\n",
              "    }\n",
              "\n",
              "    [theme=dark] .colab-df-convert {\n",
              "      background-color: #3B4455;\n",
              "      fill: #D2E3FC;\n",
              "    }\n",
              "\n",
              "    [theme=dark] .colab-df-convert:hover {\n",
              "      background-color: #434B5C;\n",
              "      box-shadow: 0px 1px 3px 1px rgba(0, 0, 0, 0.15);\n",
              "      filter: drop-shadow(0px 1px 2px rgba(0, 0, 0, 0.3));\n",
              "      fill: #FFFFFF;\n",
              "    }\n",
              "  </style>\n",
              "\n",
              "      <script>\n",
              "        const buttonEl =\n",
              "          document.querySelector('#df-2fe5c781-aeb8-43a8-8382-90d2c87a6c86 button.colab-df-convert');\n",
              "        buttonEl.style.display =\n",
              "          google.colab.kernel.accessAllowed ? 'block' : 'none';\n",
              "\n",
              "        async function convertToInteractive(key) {\n",
              "          const element = document.querySelector('#df-2fe5c781-aeb8-43a8-8382-90d2c87a6c86');\n",
              "          const dataTable =\n",
              "            await google.colab.kernel.invokeFunction('convertToInteractive',\n",
              "                                                     [key], {});\n",
              "          if (!dataTable) return;\n",
              "\n",
              "          const docLinkHtml = 'Like what you see? Visit the ' +\n",
              "            '<a target=\"_blank\" href=https://colab.research.google.com/notebooks/data_table.ipynb>data table notebook</a>'\n",
              "            + ' to learn more about interactive tables.';\n",
              "          element.innerHTML = '';\n",
              "          dataTable['output_type'] = 'display_data';\n",
              "          await google.colab.output.renderOutput(dataTable, element);\n",
              "          const docLink = document.createElement('div');\n",
              "          docLink.innerHTML = docLinkHtml;\n",
              "          element.appendChild(docLink);\n",
              "        }\n",
              "      </script>\n",
              "    </div>\n",
              "  </div>\n",
              "  "
            ]
          },
          "metadata": {},
          "execution_count": 17
        }
      ]
    },
    {
      "cell_type": "code",
      "source": [
        "correlation = df.corr()"
      ],
      "metadata": {
        "id": "fDXZDO26_znz"
      },
      "execution_count": null,
      "outputs": []
    },
    {
      "cell_type": "code",
      "source": [
        "# constructing a heatmap to nderstand the correlation\n",
        "plt.figure(figsize=(10,10))\n",
        "sns.heatmap(correlation, cbar=True, square=True, fmt='.1f', annot=True, annot_kws={'size':8}, cmap='Blues')"
      ],
      "metadata": {
        "colab": {
          "base_uri": "https://localhost:8080/",
          "height": 760
        },
        "id": "k-OeAiEGEk4m",
        "outputId": "707b19e3-e03b-4aa6-8a71-4e42570c74c2"
      },
      "execution_count": null,
      "outputs": [
        {
          "output_type": "execute_result",
          "data": {
            "text/plain": [
              "<matplotlib.axes._subplots.AxesSubplot at 0x7f92f6943250>"
            ]
          },
          "metadata": {},
          "execution_count": 19
        },
        {
          "output_type": "display_data",
          "data": {
            "text/plain": [
              "<Figure size 720x720 with 2 Axes>"
            ],
            "image/png": "[encoded data removed]"
          },
          "metadata": {
            "needs_background": "light"
          }
        }
      ]
    },
    {
      "cell_type": "code",
      "source": [
        "X = df.drop(['House price of unit area'], axis=1)\n",
        "Y = df['House price of unit area']"
      ],
      "metadata": {
        "id": "NWOmg-EhEk8u"
      },
      "execution_count": null,
      "outputs": []
    },
    {
      "cell_type": "code",
      "source": [
        "print(X)\n",
        "print(Y)"
      ],
      "metadata": {
        "colab": {
          "base_uri": "https://localhost:8080/"
        },
        "id": "bFJWNviaE1Oc",
        "outputId": "6590e8cb-0f47-4541-c9e5-a504d36f4aef"
      },
      "execution_count": null,
      "outputs": [
        {
          "output_type": "stream",
          "name": "stdout",
          "text": [
            "     Transaction date  House Age  Distance from nearest Metro station (km)  \\\n",
            "0         2012.916667       32.0                                  84.87882   \n",
            "1         2012.916667       19.5                                 306.59470   \n",
            "2         2013.583333       13.3                                 561.98450   \n",
            "3         2013.500000       13.3                                 561.98450   \n",
            "4         2012.833333        5.0                                 390.56840   \n",
            "..                ...        ...                                       ...   \n",
            "409       2013.000000       13.7                                4082.01500   \n",
            "410       2012.666667        5.6                                  90.45606   \n",
            "411       2013.250000       18.8                                 390.96960   \n",
            "412       2013.000000        8.1                                 104.81010   \n",
            "413       2013.500000        6.5                                  90.45606   \n",
            "\n",
            "     Number of convenience stores  latitude  longitude  Number of bedrooms  \\\n",
            "0                              10  24.98298  121.54024                   1   \n",
            "1                               9  24.98034  121.53951                   2   \n",
            "2                               5  24.98746  121.54391                   3   \n",
            "3                               5  24.98746  121.54391                   2   \n",
            "4                               5  24.97937  121.54245                   1   \n",
            "..                            ...       ...        ...                 ...   \n",
            "409                             0  24.94155  121.50381                   3   \n",
            "410                             9  24.97433  121.54310                   2   \n",
            "411                             7  24.97923  121.53986                   1   \n",
            "412                             5  24.96674  121.54067                   1   \n",
            "413                             9  24.97433  121.54310                   2   \n",
            "\n",
            "     House size (sqft)  \n",
            "0                  575  \n",
            "1                 1240  \n",
            "2                 1060  \n",
            "3                  875  \n",
            "4                  491  \n",
            "..                 ...  \n",
            "409                803  \n",
            "410               1278  \n",
            "411                503  \n",
            "412                597  \n",
            "413               1097  \n",
            "\n",
            "[414 rows x 8 columns]\n",
            "0      37.9\n",
            "1      42.2\n",
            "2      47.3\n",
            "3      54.8\n",
            "4      43.1\n",
            "       ... \n",
            "409    15.4\n",
            "410    50.0\n",
            "411    40.6\n",
            "412    52.5\n",
            "413    63.9\n",
            "Name: House price of unit area, Length: 414, dtype: float64\n"
          ]
        }
      ]
    },
    {
      "cell_type": "code",
      "source": [
        "X_train, X_test, Y_train, Y_test = train_test_split(X, Y, test_size = 0.2, random_state = 2)"
      ],
      "metadata": {
        "id": "hnP_pizdE1Rk"
      },
      "execution_count": null,
      "outputs": []
    },
    {
      "cell_type": "code",
      "source": [
        "print(X.shape, X_train.shape, X_test.shape)"
      ],
      "metadata": {
        "colab": {
          "base_uri": "https://localhost:8080/"
        },
        "id": "us2Y76YoE1VI",
        "outputId": "f43618ad-45e0-4104-c8c3-2250c9c02eee"
      },
      "execution_count": null,
      "outputs": [
        {
          "output_type": "stream",
          "name": "stdout",
          "text": [
            "(414, 8) (331, 8) (83, 8)\n"
          ]
        }
      ]
    },
    {
      "cell_type": "code",
      "source": [
        "# loading the model\n",
        "model = XGBRegressor()"
      ],
      "metadata": {
        "id": "cE-UgznoElAk"
      },
      "execution_count": null,
      "outputs": []
    },
    {
      "cell_type": "code",
      "source": [
        "# training the model with X_train\n",
        "model.fit(X_train, Y_train)"
      ],
      "metadata": {
        "colab": {
          "base_uri": "https://localhost:8080/"
        },
        "id": "buG-h1WXFQ-I",
        "outputId": "725b229f-05c5-4664-8627-108eb63a737a"
      },
      "execution_count": null,
      "outputs": [
        {
          "output_type": "stream",
          "name": "stdout",
          "text": [
            "[09:47:27] WARNING: /workspace/src/objective/regression_obj.cu:152: reg:linear is now deprecated in favor of reg:squarederror.\n"
          ]
        },
        {
          "output_type": "execute_result",
          "data": {
            "text/plain": [
              "XGBRegressor()"
            ]
          },
          "metadata": {},
          "execution_count": 25
        }
      ]
    },
    {
      "cell_type": "code",
      "source": [
        "# accuracy for prediction on training data\n",
        "training_data_prediction = model.predict(X_train)"
      ],
      "metadata": {
        "id": "H6BXykoZFRBH"
      },
      "execution_count": null,
      "outputs": []
    },
    {
      "cell_type": "code",
      "source": [
        "print(training_data_prediction)"
      ],
      "metadata": {
        "colab": {
          "base_uri": "https://localhost:8080/"
        },
        "id": "aq9FESlvFREI",
        "outputId": "1299d3cf-602e-4553-c86c-e2943cb0e641"
      },
      "execution_count": null,
      "outputs": [
        {
          "output_type": "stream",
          "name": "stdout",
          "text": [
            "[39.869328 38.816597 37.742004 36.268024 39.24117  40.305405 18.967777\n",
            " 53.501278 51.85209  32.41474  26.125751 29.254963 29.57093  47.769196\n",
            " 70.638756 16.82785  42.70948  37.42644  66.64346  16.504509 17.20941\n",
            " 42.752556 48.330013 55.07145  49.382984 28.639786 34.33176  45.83789\n",
            " 36.950035 36.701057 37.687996 46.51569  37.736332 49.04509  60.089134\n",
            " 45.20045  30.337149 48.842144 36.465286 38.11473  40.458847 22.23186\n",
            " 40.297302 48.849895 16.646101 51.47897  41.076466 48.91992  40.964233\n",
            " 16.492664 37.107338 26.034634 46.876904 31.569748 42.261375 57.435146\n",
            " 37.44707  55.05494  24.828386 53.9971   59.34793  16.912151 50.122643\n",
            " 31.19638  49.48783  35.86546  50.36588  27.505247 38.038387 27.572937\n",
            " 16.334087 16.066967 27.766514 28.224506 16.214075 48.485928 57.134457\n",
            " 47.585163 25.23119  42.736717 33.784023 50.82612  56.250916 58.139248\n",
            " 53.792255 27.867805 29.31024  45.23382  50.66723  25.310099 50.11514\n",
            " 42.32945  25.987267 37.625275 46.384743 49.90973  24.163115 23.989975\n",
            " 39.77521  42.917053 28.22419  49.892513 46.515335 43.059525 38.210262\n",
            " 50.78013  48.35738  27.828476 38.64772  49.2291   65.47848  49.403214\n",
            " 29.498476 49.440067 56.85985  42.846397 27.040613 68.540474 40.027504\n",
            " 47.405457 48.764507 21.629082 50.715435 45.76784  27.885239 40.856556\n",
            " 36.74906  48.51097  18.786072 31.02448  25.84216  36.102055 38.19015\n",
            " 44.84885  39.415718 36.065487 50.09086  23.80701  26.381615 44.144215\n",
            " 45.03822  47.195    56.231426 18.959263 43.947124 37.77266  41.72049\n",
            " 57.43139  27.411873 65.40949  52.484097 22.355017 41.458576 63.08317\n",
            " 50.695946 18.89422  36.370613 51.2576   40.54333  28.648722 35.686493\n",
            " 39.817204 24.163115 38.76582  16.554651 43.24169  46.591515 53.57132\n",
            " 17.543    43.08368  35.216343 40.86303  22.45935  43.804104 37.622757\n",
            " 29.239096 40.30301  25.009033 40.843758 36.212612 41.164074 53.965897\n",
            " 23.668495 16.361298 49.785675 38.96781  32.828728 31.97786  39.2714\n",
            " 47.274223 39.130306 37.539364 13.797242 37.25425  27.040613 17.732862\n",
            " 43.10678  59.609085 25.772358 37.79381  26.132044 50.58937  46.6313\n",
            " 38.11473  46.332897 44.945995 34.337746 38.62093  25.227962 24.603525\n",
            " 52.129715 38.05238  23.699385 15.552973 22.943748 46.477394 47.339966\n",
            " 49.220505 41.50041  52.227623 27.086643 22.067427 42.09259  25.356611\n",
            " 42.07883  38.56496  37.856007 35.05142  44.894005 24.093636 40.15532\n",
            " 31.615269 37.6275   54.117092 43.591724 41.277164 36.72059  35.374306\n",
            " 36.182114 26.077776 30.952253 41.376995 47.39483  38.850376 68.858246\n",
            " 47.664852 39.15999  20.690344 51.061012 16.936977 39.53144  48.86116\n",
            " 59.433784 35.63758  59.541267 28.434296 40.737522 48.547367 26.921394\n",
            " 59.58579  38.96046  49.586937 44.38859  49.66227  34.90346  44.367653\n",
            " 53.250755 41.950138 54.742268 51.63024  36.186516 57.25321  17.156475\n",
            " 55.882378 22.3529   17.420338 23.603468 24.426172 38.218864 35.433575\n",
            " 43.160946 25.162457 15.103122 39.784004 38.969826 25.491316 38.969826\n",
            " 39.69194  40.0417   27.84591  45.840168 29.177162 43.05993  48.124817\n",
            " 29.283207 26.323048 39.616737 40.827934 38.94814  46.435417 15.477839\n",
            " 50.97903  21.233244 49.422024 46.500046 26.194145 21.002737 48.54594\n",
            " 27.44076  48.86116  30.8115   41.97059  39.013866 13.819076 51.93527\n",
            " 40.95782  30.738668 31.041004 50.538044 57.195854 25.37841  47.60599\n",
            " 15.958354 29.334717 44.915703 28.88144  46.835514 23.486057 38.29938\n",
            " 45.95444  32.89647 ]\n"
          ]
        }
      ]
    },
    {
      "cell_type": "code",
      "source": [
        "# R squared error\n",
        "score_1 = metrics.r2_score(Y_train, training_data_prediction)\n",
        "\n",
        "# Mean Absolute Error\n",
        "score_2 = metrics.mean_absolute_error(Y_train, training_data_prediction)\n",
        "\n",
        "print(\"R squared error : \", score_1)\n",
        "print('Mean Absolute Error : ', score_2)"
      ],
      "metadata": {
        "colab": {
          "base_uri": "https://localhost:8080/"
        },
        "id": "W0sq7MerFRHO",
        "outputId": "ca3b1354-2795-49c9-f96c-b01b0f51e134"
      },
      "execution_count": null,
      "outputs": [
        {
          "output_type": "stream",
          "name": "stdout",
          "text": [
            "R squared error :  0.9257465878599627\n",
            "Mean Absolute Error :  2.784452100102635\n"
          ]
        }
      ]
    },
    {
      "cell_type": "code",
      "source": [
        "plt.scatter(Y_train, training_data_prediction)\n",
        "plt.xlabel(\"Actual Prices\")\n",
        "plt.ylabel(\"Predicted Prices\")\n",
        "plt.title(\"Actual Price vs Preicted Price\")\n",
        "plt.show()"
      ],
      "metadata": {
        "colab": {
          "base_uri": "https://localhost:8080/",
          "height": 295
        },
        "id": "sqjLBKnmFiss",
        "outputId": "dd6f3a6b-0595-4d0b-fb94-0688a37238e6"
      },
      "execution_count": null,
      "outputs": [
        {
          "output_type": "display_data",
          "data": {
            "text/plain": [
              "<Figure size 432x288 with 1 Axes>"
            ],
            "image/png": "[encoded data removed]"
          },
          "metadata": {
            "needs_background": "light"
          }
        }
      ]
    },
    {
      "cell_type": "code",
      "source": [
        "# accuracy for prediction on test data\n",
        "test_data_prediction = model.predict(X_test)"
      ],
      "metadata": {
        "id": "ENyifotnFiwR"
      },
      "execution_count": null,
      "outputs": []
    },
    {
      "cell_type": "code",
      "source": [
        "# R squared error\n",
        "score_1 = metrics.r2_score(Y_test, test_data_prediction)\n",
        "\n",
        "# Mean Absolute Error\n",
        "score_2 = metrics.mean_absolute_error(Y_test, test_data_prediction)\n",
        "\n",
        "print(\"R squared error : \", score_1)\n",
        "print('Mean Absolute Error : ', score_2)"
      ],
      "metadata": {
        "colab": {
          "base_uri": "https://localhost:8080/"
        },
        "id": "ko1V_I02Fiza",
        "outputId": "161cd512-e3f6-4f34-aef8-187d44b7a0da"
      },
      "execution_count": null,
      "outputs": [
        {
          "output_type": "stream",
          "name": "stdout",
          "text": [
            "R squared error :  0.5807236298030187\n",
            "Mean Absolute Error :  4.567190064579607\n"
          ]
        }
      ]
    }
  ]
}